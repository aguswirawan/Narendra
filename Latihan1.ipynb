{
  "nbformat": 4,
  "nbformat_minor": 0,
  "metadata": {
    "colab": {
      "name": "Untitled0.ipynb",
      "provenance": [],
      "authorship_tag": "ABX9TyOxdRPvdCqkQnd9VzQaMz6W",
      "include_colab_link": true
    },
    "kernelspec": {
      "name": "python3",
      "display_name": "Python 3"
    }
  },
  "cells": [
    {
      "cell_type": "markdown",
      "metadata": {
        "id": "view-in-github",
        "colab_type": "text"
      },
      "source": [
        "<a href=\"https://colab.research.google.com/github/aguswirawan/Narendra/blob/master/Latihan1.ipynb\" target=\"_parent\"><img src=\"https://colab.research.google.com/assets/colab-badge.svg\" alt=\"Open In Colab\"/></a>"
      ]
    },
    {
      "cell_type": "code",
      "metadata": {
        "id": "CUJE188oL0K7",
        "colab_type": "code",
        "colab": {
          "base_uri": "https://localhost:8080/",
          "height": 73
        },
        "outputId": "8f36e03b-c0a7-4920-bed8-f7fa93e9884b"
      },
      "source": [
        "print(\" ——Toko Amanah Jaya———-\")\n",
        "#input data\n",
        "harga= int(input(\"masukan harga barang: \"))\n",
        "jumlah= int(input(\"masukan jumlah baju yang dibeli: \"))\n",
        "Total=harga*jumlah\n",
        "print(\"Total Harga = \", \"Rp.\",Total)\n",
        "Bayar=int(input(\"Jumlah Nominal Uang =\" ))\n",
        "Kembalian= (Bayar-Total)\n",
        "print(\"Uang Kembalian = \", \"Rp.\",Kembalian)"
      ],
      "execution_count": null,
      "outputs": [
        {
          "output_type": "stream",
          "text": [
            " ——Toko Amanah Jaya———-\n"
          ],
          "name": "stdout"
        }
      ]
    }
  ]
}